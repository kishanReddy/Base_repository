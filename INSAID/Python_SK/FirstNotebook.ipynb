{
  "nbformat": 4,
  "nbformat_minor": 0,
  "metadata": {
    "colab": {
      "name": "FirstNotebook.ipynb",
      "provenance": [],
      "authorship_tag": "ABX9TyOEhHrufbYIVb5hbk3DzCKB",
      "include_colab_link": true
    },
    "kernelspec": {
      "name": "python3",
      "display_name": "Python 3"
    }
  },
  "cells": [
    {
      "cell_type": "markdown",
      "metadata": {
        "id": "view-in-github",
        "colab_type": "text"
      },
      "source": [
        "<a href=\"https://colab.research.google.com/github/kishanReddy/Base_repository/blob/master/INSAID/Python_SK/FirstNotebook.ipynb\" target=\"_parent\"><img src=\"https://colab.research.google.com/assets/colab-badge.svg\" alt=\"Open In Colab\"/></a>"
      ]
    },
    {
      "cell_type": "code",
      "metadata": {
        "colab": {
          "base_uri": "https://localhost:8080/"
        },
        "id": "R_vgXCGvhoBd",
        "outputId": "990f7fca-f774-41ce-d102-762102a1896d"
      },
      "source": [
        "print(\"Hello Kishan\")"
      ],
      "execution_count": null,
      "outputs": [
        {
          "output_type": "stream",
          "text": [
            "Hello Kishan\n"
          ],
          "name": "stdout"
        }
      ]
    },
    {
      "cell_type": "code",
      "metadata": {
        "id": "8Fcfv_wOiOlp",
        "colab": {
          "base_uri": "https://localhost:8080/"
        },
        "outputId": "070b9124-8da6-4f50-fbe0-af5384482dc8"
      },
      "source": [
        "data1 = 12\n",
        "print(data1, \"is type of\", type(data1))"
      ],
      "execution_count": null,
      "outputs": [
        {
          "output_type": "stream",
          "text": [
            "12 is type of <class 'int'>\n"
          ],
          "name": "stdout"
        }
      ]
    },
    {
      "cell_type": "code",
      "metadata": {
        "colab": {
          "base_uri": "https://localhost:8080/"
        },
        "id": "LmDgwQ_8j0ql",
        "outputId": "d8e1f7ee-3da4-49fb-9806-33f966b6f736"
      },
      "source": [
        "data3 = 100 + 12j\n",
        "print(data3, \"is type of\", type(data3))"
      ],
      "execution_count": null,
      "outputs": [
        {
          "output_type": "stream",
          "text": [
            "(100+12j) is type of <class 'complex'>\n"
          ],
          "name": "stdout"
        }
      ]
    },
    {
      "cell_type": "code",
      "metadata": {
        "colab": {
          "base_uri": "https://localhost:8080/"
        },
        "id": "sFcyseOPll-o",
        "outputId": "5506f323-91d3-42bb-a864-6faecb0aa04e"
      },
      "source": [
        "stringV1 = \"This is an example\"\n",
        "print(stringV1[-1:3])"
      ],
      "execution_count": null,
      "outputs": [
        {
          "output_type": "stream",
          "text": [
            "\n"
          ],
          "name": "stdout"
        }
      ]
    },
    {
      "cell_type": "markdown",
      "metadata": {
        "id": "0uMd5cF0mKgq"
      },
      "source": [
        "Python List:\n",
        "Ordered sequence of items; mutable; uses [ ]\n"
      ]
    },
    {
      "cell_type": "code",
      "metadata": {
        "colab": {
          "base_uri": "https://localhost:8080/"
        },
        "id": "9oivBAqZmPow",
        "outputId": "bd7fedb7-f1a9-40c1-b97e-593a7db3646a"
      },
      "source": [
        "myList1 = [1, 2.2, \"ThirdElement\", 12, 24, \"etcetera\"]\n",
        "print(myList1)"
      ],
      "execution_count": null,
      "outputs": [
        {
          "output_type": "stream",
          "text": [
            "[1, 2.2, 'ThirdElement', 12, 24, 'etcetera']\n"
          ],
          "name": "stdout"
        }
      ]
    },
    {
      "cell_type": "code",
      "metadata": {
        "colab": {
          "base_uri": "https://localhost:8080/"
        },
        "id": "5rtprSeFnO5U",
        "outputId": "239b8749-d449-40a8-e0b5-9d587b3a93fe"
      },
      "source": [
        "myList1[2] = \"ElementThree\"\n",
        "print(myList1)\n"
      ],
      "execution_count": null,
      "outputs": [
        {
          "output_type": "stream",
          "text": [
            "[1, 2.2, 'ElementThree', 12, 24, 'etcetera']\n"
          ],
          "name": "stdout"
        }
      ]
    },
    {
      "cell_type": "code",
      "metadata": {
        "colab": {
          "base_uri": "https://localhost:8080/"
        },
        "id": "AZLLiRPqn21R",
        "outputId": "2ce2ffec-41b5-4fe5-a110-4525505d6bcb"
      },
      "source": [
        "myList1.clear()\n",
        "print(myList1)\n"
      ],
      "execution_count": null,
      "outputs": [
        {
          "output_type": "stream",
          "text": [
            "[]\n"
          ],
          "name": "stdout"
        }
      ]
    },
    {
      "cell_type": "markdown",
      "metadata": {
        "id": "RmwseoqgoIQL"
      },
      "source": [
        "Python Tuple: \n",
        "Ordered sequence of items same as list.\n",
        "Immutable;\n",
        "Tuples onces created cannot be modified.\n",
        "Used to write-protect data and are usually faster than list as it cannot change dynamically;\n",
        "Tuple is defined by value separated by comma inside parenthesis ( )"
      ]
    },
    {
      "cell_type": "code",
      "metadata": {
        "colab": {
          "base_uri": "https://localhost:8080/",
          "height": 214
        },
        "id": "kUcXkyuHoj4t",
        "outputId": "d0738e07-c994-49ea-c894-96d50c80a6ea"
      },
      "source": [
        "myTuple = (10, 20, 30, \"Text\")\n",
        "print(myTuple[2])\n",
        "myTuple[2] = 20"
      ],
      "execution_count": null,
      "outputs": [
        {
          "output_type": "stream",
          "text": [
            "30\n"
          ],
          "name": "stdout"
        },
        {
          "output_type": "error",
          "ename": "TypeError",
          "evalue": "ignored",
          "traceback": [
            "\u001b[0;31m---------------------------------------------------------------------------\u001b[0m",
            "\u001b[0;31mTypeError\u001b[0m                                 Traceback (most recent call last)",
            "\u001b[0;32m<ipython-input-14-f4fd6c8b886d>\u001b[0m in \u001b[0;36m<module>\u001b[0;34m()\u001b[0m\n\u001b[1;32m      1\u001b[0m \u001b[0mmyTuple\u001b[0m \u001b[0;34m=\u001b[0m \u001b[0;34m(\u001b[0m\u001b[0;36m10\u001b[0m\u001b[0;34m,\u001b[0m \u001b[0;36m20\u001b[0m\u001b[0;34m,\u001b[0m \u001b[0;36m30\u001b[0m\u001b[0;34m,\u001b[0m \u001b[0;34m\"Text\"\u001b[0m\u001b[0;34m)\u001b[0m\u001b[0;34m\u001b[0m\u001b[0;34m\u001b[0m\u001b[0m\n\u001b[1;32m      2\u001b[0m \u001b[0mprint\u001b[0m\u001b[0;34m(\u001b[0m\u001b[0mmyTuple\u001b[0m\u001b[0;34m[\u001b[0m\u001b[0;36m2\u001b[0m\u001b[0;34m]\u001b[0m\u001b[0;34m)\u001b[0m\u001b[0;34m\u001b[0m\u001b[0;34m\u001b[0m\u001b[0m\n\u001b[0;32m----> 3\u001b[0;31m \u001b[0mmyTuple\u001b[0m\u001b[0;34m[\u001b[0m\u001b[0;36m2\u001b[0m\u001b[0;34m]\u001b[0m \u001b[0;34m=\u001b[0m \u001b[0;36m20\u001b[0m\u001b[0;34m\u001b[0m\u001b[0;34m\u001b[0m\u001b[0m\n\u001b[0m",
            "\u001b[0;31mTypeError\u001b[0m: 'tuple' object does not support item assignment"
          ]
        }
      ]
    },
    {
      "cell_type": "markdown",
      "metadata": {
        "id": "EKjuKxDTpAZa"
      },
      "source": [
        "Python Set:\n",
        "\n",
        "Unordered collection of unique items; mutable;\n",
        "As set is unordered index cannot be used to access elements;\n",
        "\n",
        "set is defined by value separated by comma inside curly braces { }"
      ]
    },
    {
      "cell_type": "code",
      "metadata": {
        "colab": {
          "base_uri": "https://localhost:8080/"
        },
        "id": "70ejsPT_pgZh",
        "outputId": "ec968f52-e89c-4ebb-c755-7b1227f16251"
      },
      "source": [
        "myset = {10, 20, 30, 40, 50}\n",
        "print(myset)"
      ],
      "execution_count": null,
      "outputs": [
        {
          "output_type": "stream",
          "text": [
            "{40, 10, 50, 20, 30}\n"
          ],
          "name": "stdout"
        }
      ]
    },
    {
      "cell_type": "code",
      "metadata": {
        "colab": {
          "base_uri": "https://localhost:8080/"
        },
        "id": "gdX8zYvcpzOP",
        "outputId": "6ee2b07f-9153-4bfa-d392-c03e2fa25ab1"
      },
      "source": [
        "myset = {10,  20, 30, 30, 30}\n",
        "print(myset)"
      ],
      "execution_count": null,
      "outputs": [
        {
          "output_type": "stream",
          "text": [
            "{10, 20, 30}\n"
          ],
          "name": "stdout"
        }
      ]
    },
    {
      "cell_type": "markdown",
      "metadata": {
        "id": "ouM7S1wUqtyh"
      },
      "source": [
        "**Python Dictionary**\n",
        "\n",
        "Dictionary is an unordered collection of key-value pairs; \n",
        "Key is to be known to retrieve the value;\n",
        "Key and value can be of any type;\n",
        "\n"
      ]
    },
    {
      "cell_type": "code",
      "metadata": {
        "colab": {
          "base_uri": "https://localhost:8080/"
        },
        "id": "ev3-rK2mrt1W",
        "outputId": "25b5bc36-471b-4622-bddd-8e660e0264b7"
      },
      "source": [
        "myDict = {'key1':'value1','key2':'value2','key3':'value3'}\n",
        "print(myDict['key2'])"
      ],
      "execution_count": null,
      "outputs": [
        {
          "output_type": "stream",
          "text": [
            "value2\n"
          ],
          "name": "stdout"
        }
      ]
    },
    {
      "cell_type": "markdown",
      "metadata": {
        "id": "Qj_vL7r6fUPC"
      },
      "source": [
        "**Output Formatting**\n",
        "\n",
        "Refer documentation for more expamples: https://docs.python.org/3.4/library/string.html#format-examples\n"
      ]
    },
    {
      "cell_type": "code",
      "metadata": {
        "colab": {
          "base_uri": "https://localhost:8080/"
        },
        "id": "Bcr8xfKHep4T",
        "outputId": "7e2afffc-fe92-463c-dde8-3a72927cc77a"
      },
      "source": [
        "myInt1 = 20\n",
        "myInt2 = 40\n",
        "\n",
        "print(\"myInt1: {} is the half of myInt2: {}\".format(myInt1, myInt2))\n",
        "\n",
        "#Formatting useing Index \n",
        "print(\"myInt2: {1} is the double of myInt1: {0}\".format(myInt1, myInt2))\n"
      ],
      "execution_count": null,
      "outputs": [
        {
          "output_type": "stream",
          "text": [
            "myInt1: 20 is the half of myInt2: 40\n",
            "myInt2: 40 is the double of myInt1: 20\n"
          ],
          "name": "stdout"
        }
      ]
    },
    {
      "cell_type": "markdown",
      "metadata": {
        "id": "YVdtWHErg39s"
      },
      "source": [
        "Python Input\n",
        "\n",
        "User Inputs can be taken in python by using the input() function."
      ]
    },
    {
      "cell_type": "code",
      "metadata": {
        "colab": {
          "base_uri": "https://localhost:8080/"
        },
        "id": "LgGncYbSg7T5",
        "outputId": "1d36e1f7-9d5a-49f5-cb8a-f6582a1fb848"
      },
      "source": [
        "userInput = input(\"Please enter some data: \")\n",
        "print(\"you typed in: \",userInput)"
      ],
      "execution_count": null,
      "outputs": [
        {
          "output_type": "stream",
          "text": [
            "Please enter some data: 1\n",
            "you typed in:  1\n"
          ],
          "name": "stdout"
        }
      ]
    },
    {
      "cell_type": "markdown",
      "metadata": {
        "id": "Wr32YJGRiFoV"
      },
      "source": [
        "**Opertors**\n",
        "\n",
        "Types:\n",
        "1. Arithmetic {+; -; *; /; %; //; **}\n",
        "2. Comparison(Relational) {>; <; ==; !=; >=; <=}\n",
        "3. Logical(Boolean)\n",
        "4. Bitwise\n",
        "5. Assignment\n",
        "6. Special Operators"
      ]
    },
    {
      "cell_type": "code",
      "metadata": {
        "colab": {
          "base_uri": "https://localhost:8080/"
        },
        "id": "OgqHJ8NoTGz7",
        "outputId": "d299bd1d-6f77-4ec1-a342-d3d0ac240664"
      },
      "source": [
        "#Bitwise\n",
        "variable1, variable2 =3, 7 \n",
        "print(variable1 & variable2)\n",
        "print(variable1 | variable2)\n",
        "print(~variable2)\n",
        "print(variable1 ^ variable2)\n",
        "print(variable1 >> 2)\n",
        "print(variable1 << 2)"
      ],
      "execution_count": null,
      "outputs": [
        {
          "output_type": "stream",
          "text": [
            "3\n",
            "7\n",
            "-8\n",
            "4\n",
            "0\n",
            "12\n"
          ],
          "name": "stdout"
        }
      ]
    },
    {
      "cell_type": "markdown",
      "metadata": {
        "id": "orvNO0XbGNjR"
      },
      "source": [
        "Interview Qs"
      ]
    },
    {
      "cell_type": "code",
      "metadata": {
        "id": "3jl6I_0tZaXQ"
      },
      "source": [
        "if all"
      ],
      "execution_count": null,
      "outputs": []
    },
    {
      "cell_type": "code",
      "metadata": {
        "id": "B71DiyMUZfeq"
      },
      "source": [
        "l = [24, ]"
      ],
      "execution_count": null,
      "outputs": []
    },
    {
      "cell_type": "markdown",
      "metadata": {
        "id": "110cNdbikbH_"
      },
      "source": [
        "Control Flow"
      ]
    },
    {
      "cell_type": "code",
      "metadata": {
        "colab": {
          "base_uri": "https://localhost:8080/"
        },
        "id": "RX12IDrkkesx",
        "outputId": "0b1d0871-23b7-421f-b721-7bfc54ee25dd"
      },
      "source": [
        "myList = [1, 2, 3, 4, 5]\n",
        "\n",
        "sum = 0\n",
        "index = 0\n",
        "while index < len(myList):\n",
        "  sum += myList[index]       # sume = sume + myList[index]\n",
        "  index += 1\n",
        "print('Sum of the array is: {}'.format(sum))\n"
      ],
      "execution_count": 2,
      "outputs": [
        {
          "output_type": "stream",
          "text": [
            "Sum of the array is: 15\n"
          ],
          "name": "stdout"
        }
      ]
    },
    {
      "cell_type": "markdown",
      "metadata": {
        "id": "U6litzA2hxHR"
      },
      "source": [
        "**Example: Calculate the factorial of a number**"
      ]
    },
    {
      "cell_type": "code",
      "metadata": {
        "colab": {
          "base_uri": "https://localhost:8080/"
        },
        "id": "w9DtqECLh2Nx",
        "outputId": "af7e14fa-ed33-47e4-b14f-0294c986dfab"
      },
      "source": [
        "userInput = input(\"Enter a positive non-zero number: \")\n",
        "number = int(userInput)\n",
        "\n",
        "if number <= 0:\n",
        "  print('Invalid number please re-enter')\n",
        "  userInput = input(\"Enter a positive non-zero number: \")\n",
        "  number = int(userInput)\n",
        "else:\n",
        "  fact_number = 1\n",
        "  while (number != 0):\n",
        "    fact_number = fact_number * number\n",
        "    number -= 1 \n",
        "  print('Thank you, let me share the result with you; Factorial is {}'.format(fact_number))\n",
        "\n"
      ],
      "execution_count": 4,
      "outputs": [
        {
          "output_type": "stream",
          "text": [
            "Enter a positive non-zero number: 5\n",
            "Thank you, let me share the result with you; Factorial is 120\n"
          ],
          "name": "stdout"
        }
      ]
    },
    {
      "cell_type": "markdown",
      "metadata": {
        "id": "pjSTWQ_KkwL7"
      },
      "source": [
        "**Alternate method for factorial**"
      ]
    },
    {
      "cell_type": "code",
      "metadata": {
        "colab": {
          "base_uri": "https://localhost:8080/"
        },
        "id": "pJHd472mk4ev",
        "outputId": "f37c0d7a-b6f3-4a0b-d992-f97723a64883"
      },
      "source": [
        "userInput = input(\"Enter a positive non-zero number: \")\n",
        "number = int(userInput)\n",
        "\n",
        "if number <= 0:\n",
        "  print('Invalid number please re-enter')\n",
        "  userInput = input(\"Enter a positive non-zero number: \")\n",
        "  number = int(userInput)\n",
        "else: \n",
        "  print('Thank you, let me share the result with you')\n",
        "\n",
        "fact = 1\n",
        "if number > 0:\n",
        "  while number > 0:\n",
        "    fact *= number\n",
        "    number -= 1\n",
        "  print('The factorial of the number is: ', fact)"
      ],
      "execution_count": 5,
      "outputs": [
        {
          "output_type": "stream",
          "text": [
            "Enter a positive non-zero number: -5\n",
            "Invalid number please re-enter\n",
            "Enter a positive non-zero number: -3\n"
          ],
          "name": "stdout"
        }
      ]
    },
    {
      "cell_type": "markdown",
      "metadata": {
        "id": "r4BSZFkDnO60"
      },
      "source": [
        "**Example: Program to calculate the divisors of number**"
      ]
    },
    {
      "cell_type": "code",
      "metadata": {
        "colab": {
          "base_uri": "https://localhost:8080/"
        },
        "id": "rkt6gjXZnXJL",
        "outputId": "59efed8c-cbac-47e4-dccc-4f8f9908f2f7"
      },
      "source": [
        "userInput = input(\"Enter a positive non-zero number: \")\n",
        "number = int(userInput)\n",
        "listofDivisors = [1]\n",
        "index = 1\n",
        "while number > index:\n",
        "  index += 1\n",
        "  if ((number%index) == 0):\n",
        "      listofDivisors.append(index)\n",
        "  #number -= 1\n",
        "print('The List of all the Divisors of {}{}'.format(number, listofDivisors))\n",
        "\n",
        "\n"
      ],
      "execution_count": 10,
      "outputs": [
        {
          "output_type": "stream",
          "text": [
            "Enter a positive non-zero number: 6\n",
            "The List of all the Divisors of 6[1, 2, 3, 6]\n"
          ],
          "name": "stdout"
        }
      ]
    },
    {
      "cell_type": "markdown",
      "metadata": {
        "id": "qC0014NWxNGS"
      },
      "source": [
        "**Alternate method: Program to calculate the divisors of number**"
      ]
    },
    {
      "cell_type": "code",
      "metadata": {
        "colab": {
          "base_uri": "https://localhost:8080/"
        },
        "id": "oeEPDYUTxXEA",
        "outputId": "3071da35-5ea4-4804-d470-b6785694d42e"
      },
      "source": [
        "userInput = input(\"Enter a positive non-zero number: \")\n",
        "number = int(userInput)\n",
        "listofDivisors = [1]\n",
        "\n",
        "for divisor in range(2, int(number/2)+1):\n",
        "  if (number%divisor == 0):\n",
        "    listofDivisors.append(divisor)\n",
        "else:\n",
        "    print(listofDivisors)\n"
      ],
      "execution_count": 15,
      "outputs": [
        {
          "output_type": "stream",
          "text": [
            "Enter a positive non-zero number: 4696\n",
            "[1, 2, 4, 8, 587, 1174, 2348]\n"
          ],
          "name": "stdout"
        }
      ]
    },
    {
      "cell_type": "markdown",
      "metadata": {
        "id": "jw97wNKl0Dfv"
      },
      "source": [
        "**Program to calculate first 3 divisors of a number except 2 & 3**"
      ]
    },
    {
      "cell_type": "code",
      "metadata": {
        "colab": {
          "base_uri": "https://localhost:8080/"
        },
        "id": "Uw5EIS900PqU",
        "outputId": "2aefe1fb-702a-4246-e28b-17acbcca71fe"
      },
      "source": [
        "userInput = input(\"Enter a positive non-zero number: \")\n",
        "number = int(userInput)\n",
        "listofDivisors = [1]\n",
        "\n",
        "for divisor in range(2, int(number/2)+1):\n",
        "  if (divisor == 2 or 3):\n",
        "    continue\n",
        "  elif (number%divisor == 0):\n",
        "      listofDivisors.append(divisor)\n",
        "      if listofDivisors.count == 3:\n",
        "        break\n",
        "else:\n",
        "    print(listofDivisors)"
      ],
      "execution_count": 20,
      "outputs": [
        {
          "output_type": "stream",
          "text": [
            "Enter a positive non-zero number: 4696\n",
            "[1]\n"
          ],
          "name": "stdout"
        }
      ]
    },
    {
      "cell_type": "markdown",
      "metadata": {
        "id": "hy3PaIpq0QOl"
      },
      "source": [
        "**Alternate Method: Program to calculate first 3 divisors of a number except 2 & 3**"
      ]
    },
    {
      "cell_type": "code",
      "metadata": {
        "colab": {
          "base_uri": "https://localhost:8080/"
        },
        "id": "AMrLnLLy2Ekd",
        "outputId": "4821a062-918b-4e15-b203-d1717f161da1"
      },
      "source": [
        "userInput = input(\"Enter a positive non-zero number: \")\n",
        "number = int(userInput)\n",
        "listofDivisors = [1]\n",
        "\n",
        "for divisor in range(2, int(number/2)+1):\n",
        "  if (number%divisor == 0):\n",
        "    if divisor in [2,3]:\n",
        "      continue\n",
        "    elif len(listofDivisors) == 3:\n",
        "      break\n",
        "    listofDivisors.append(divisor)\n",
        "print(listofDivisors)"
      ],
      "execution_count": 21,
      "outputs": [
        {
          "output_type": "stream",
          "text": [
            "Enter a positive non-zero number: 4696\n",
            "[1, 4, 8]\n"
          ],
          "name": "stdout"
        }
      ]
    }
  ]
}